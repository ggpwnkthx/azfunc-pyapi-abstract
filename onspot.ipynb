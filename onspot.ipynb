{
 "cells": [
  {
   "cell_type": "code",
   "execution_count": null,
   "metadata": {},
   "outputs": [],
   "source": [
    "import simplejson as json\n",
    "import os\n",
    "\n",
    "for key, value in json.load(open(\"local.settings.json\"))[\"Values\"].items():\n",
    "    os.environ[key] = str(value)"
   ]
  },
  {
   "cell_type": "code",
   "execution_count": null,
   "metadata": {},
   "outputs": [],
   "source": [
    "from datetime import datetime, timedelta\n",
    "from azure.storage.blob import (\n",
    "    ContainerClient,\n",
    "    ContainerSasPermissions,\n",
    "    generate_container_sas,\n",
    ")\n",
    "container = ContainerClient.from_connection_string(conn_str=os.environ[\"ONSPOT_CONN_STR\"], container_name=\"general\")\n",
    "sas_token = generate_container_sas(\n",
    "    account_name=container.account_name,\n",
    "    account_key=container.credential.account_key,\n",
    "    container_name=container.container_name,\n",
    "    permission=ContainerSasPermissions(write=True, read=True),\n",
    "    expiry=datetime.utcnow() + timedelta(days=2),\n",
    ")\n",
    "\n",
    "from libs.openapi.clients.onspot import OnSpotAPI\n",
    "api = OnSpotAPI()\n",
    "\n",
    "session_factory = api.createRequest((\"/save/geoframe/all/observations\", \"post\"))\n",
    "await session_factory(\n",
    "    data={\n",
    "        \"type\": \"FeatureCollection\",\n",
    "        \"features\": [\n",
    "            {\n",
    "                \"type\": \"Feature\",\n",
    "                \"geometry\": {\n",
    "                    \"type\": \"Polygon\",\n",
    "                    \"coordinates\": [\n",
    "                        [\n",
    "                            [-123.46478462219238, 39.07166187346857],\n",
    "                            [-123.4659218788147, 39.06921298141872],\n",
    "                            [-123.46278905868529, 39.0687964947246],\n",
    "                            [-123.4616732597351, 39.07079560844253],\n",
    "                            [-123.46478462219238, 39.07166187346857],\n",
    "                        ]\n",
    "                    ],\n",
    "                },\n",
    "                \"properties\": {\n",
    "                    \"hash\": False,\n",
    "                    \"name\": \"Feature Example\",\n",
    "                    \"start\": \"2023-06-08T00:00:00\",\n",
    "                    \"end\": \"2023-06-19T23:59:59\",\n",
    "                    \"callback\": \"https://azfunc-jeami.tun.esqads.com/api/callback\",\n",
    "                    \"outputLocation\": container.url.replace(\"https://\", \"az://\") + \"/path/to/blobs?\" + sas_token\n",
    "                },\n",
    "            }\n",
    "        ],\n",
    "    }\n",
    ")"
   ]
  }
 ],
 "metadata": {
  "kernelspec": {
   "display_name": ".venv",
   "language": "python",
   "name": "python3"
  },
  "language_info": {
   "codemirror_mode": {
    "name": "ipython",
    "version": 3
   },
   "file_extension": ".py",
   "mimetype": "text/x-python",
   "name": "python",
   "nbconvert_exporter": "python",
   "pygments_lexer": "ipython3",
   "version": "3.10.4"
  },
  "orig_nbformat": 4
 },
 "nbformat": 4,
 "nbformat_minor": 2
}
