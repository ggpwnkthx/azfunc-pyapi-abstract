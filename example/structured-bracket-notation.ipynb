{
 "cells": [
  {
   "cell_type": "code",
   "execution_count": 1,
   "metadata": {},
   "outputs": [],
   "source": [
    "import simplejson as json\n",
    "import os\n",
    "from libs.data import register_binding, from_bind\n",
    "\n",
    "for key, value in json.load(open(\"local.settings.json\"))[\"Values\"].items():\n",
    "    os.environ[key] = str(value)"
   ]
  },
  {
   "cell_type": "code",
   "execution_count": 2,
   "metadata": {},
   "outputs": [
    {
     "name": "stderr",
     "output_type": "stream",
     "text": [
      "d:\\GitHub\\Esquire-Media\\azfunc-pyapi-v2\\libs\\data\\structured\\sqlalchemy\\__init__.py:223: SAWarning: Table 'LocationsBackup' specifies columns 'ID', 'ESQ_ID' as primary_key=True, not matching locally specified columns 'ESQ_ID'; setting the current primary key columns to 'ESQ_ID'. This warning may become an exception in a future release\n",
      "  table.append_constraint(PrimaryKeyConstraint(col))\n"
     ]
    }
   ],
   "source": [
    "register_binding(\n",
    "    \"some_handle_name\",\n",
    "    \"Structured\",\n",
    "    \"sql\",\n",
    "    url=os.environ[\"DATABIND_SQL_GENERAL\"],\n",
    "    schemas=[\"esquire\", \"dbo\"],\n",
    ")"
   ]
  },
  {
   "cell_type": "code",
   "execution_count": 3,
   "metadata": {},
   "outputs": [
    {
     "data": {
      "text/plain": [
       "SELECT top 10 esquire.geoframes.esq_id,\n",
       "       esquire.geoframes.id,\n",
       "       (esquire.geoframes.geography).stasbinary() as geography\n",
       "FROM   esquire.geoframes\n",
       "ORDER BY esquire.geoframes.esq_id"
      ]
     },
     "metadata": {},
     "output_type": "display_data"
    },
    {
     "name": "stderr",
     "output_type": "stream",
     "text": [
      "d:\\GitHub\\Esquire-Media\\azfunc-pyapi-v2\\libs\\data\\structured\\sqlalchemy\\interface.py:195: SAWarning: UserDefinedType GeographyJSON(from_text='ST_GeomFromEWKT', name='geometry') will not produce a cache key because the ``cache_ok`` attribute is not set to True.  This can have significant performance implications including some performance degradations in comparison to prior SQLAlchemy versions.  Set this attribute to True if this type object's state is safe to use in a cache key, or False to disable this warning. (Background on this warning at: https://sqlalche.me/e/20/cprf)\n",
      "  return self.__build__().all()\n"
     ]
    },
    {
     "data": {
      "text/plain": [
       "[('01~00015', UUID('9fe48c14-404b-4a6e-afdb-f79d0b9298a5'), {\"geometry\": {\"coordinates\": [[[-104.746697, 40.394451], [-104.746695, 40.394333], [-104.746445, 40.394332], [-104.746445, 40.394451], [-104.746697, 40.394451]]], \"type\": \"Polygon\"}, \"properties\": {}, \"type\": \"Feature\"}),\n",
       " ('01~00016', UUID('940ae7e4-74cd-48d1-9411-99bac319e7ea'), {\"geometry\": {\"coordinates\": [[[-105.07588, 40.530851], [-105.075879, 40.53072], [-105.075536, 40.530722], [-105.075536, 40.530852], [-105.07588, 40.530851]]], \"type\": \"Polygon\"}, \"properties\": {}, \"type\": \"Feature\"}),\n",
       " ('01~00017', UUID('38af3cca-118b-4c72-ba38-15ce5eb89947'), {\"geometry\": {\"coordinates\": [[[-108.599701, 39.08985], [-108.599603, 39.08978], [-108.599459, 39.089892], [-108.59956, 39.089962], [-108.599701, 39.08985]]], \"type\": \"Polygon\"}, \"properties\": {}, \"type\": \"Feature\"}),\n",
       " ('01~00018', UUID('0ca89be9-8081-4322-8cef-5b173efcf7ba'), {\"geometry\": {\"coordinates\": [[[-104.828054, 39.69776], [-104.828056, 39.697473], [-104.82789, 39.697472], [-104.827887, 39.697759], [-104.828054, 39.69776]]], \"type\": \"Polygon\"}, \"properties\": {}, \"type\": \"Feature\"}),\n",
       " ('01~00020', UUID('8e951e97-51c2-4130-879e-fca364f4207b'), {\"geometry\": {\"coordinates\": [[[-104.988731, 39.883915], [-104.988729, 39.883771], [-104.988555, 39.88377], [-104.988556, 39.883916], [-104.988731, 39.883915]]], \"type\": \"Polygon\"}, \"properties\": {}, \"type\": \"Feature\"}),\n",
       " ('01~00021', UUID('144ad133-88d7-4d43-8411-26fc2367890e'), {\"geometry\": {\"coordinates\": [[[-105.056529, 39.8666], [-105.056397, 39.8666], [-105.056395, 39.866893], [-105.056529, 39.866894], [-105.056529, 39.8666]]], \"type\": \"Polygon\"}, \"properties\": {}, \"type\": \"Feature\"}),\n",
       " ('01~00022', UUID('361facc2-b229-4884-a757-487a1a0416ae'), {\"geometry\": {\"coordinates\": [[[-105.09266, 39.619794], [-105.092661, 39.619612], [-105.09246, 39.619611], [-105.09246, 39.619795], [-105.09266, 39.619794]]], \"type\": \"Polygon\"}, \"properties\": {}, \"type\": \"Feature\"}),\n",
       " ('01~00023', UUID('9888e1ae-9f72-408e-bffe-6758429c4709'), {\"geometry\": {\"coordinates\": [[[-104.761781, 39.512201], [-104.761781, 39.512085], [-104.761572, 39.512084], [-104.761569, 39.5122], [-104.761781, 39.512201]]], \"type\": \"Polygon\"}, \"properties\": {}, \"type\": \"Feature\"}),\n",
       " ('01~00024', UUID('89179aa6-82bc-4e41-b859-57011d0d97c4'), {\"geometry\": {\"coordinates\": [[[-104.964843, 39.59439], [-104.964842, 39.594504], [-104.965049, 39.594503], [-104.965049, 39.594391], [-104.964843, 39.59439]]], \"type\": \"Polygon\"}, \"properties\": {}, \"type\": \"Feature\"}),\n",
       " ('01~00025', UUID('83e30d84-fc35-4222-a482-66599328d902'), {\"geometry\": {\"coordinates\": [[[-105.153903, 39.7374], [-105.153928, 39.737429], [-105.154095, 39.737333], [-105.153965, 39.73722], [-105.153809, 39.737317], [-105.153903, 39.7374]]], \"type\": \"Polygon\"}, \"properties\": {}, \"type\": \"Feature\"})]"
      ]
     },
     "metadata": {},
     "output_type": "display_data"
    },
    {
     "name": "stderr",
     "output_type": "stream",
     "text": [
      "d:\\GitHub\\Esquire-Media\\azfunc-pyapi-v2\\libs\\data\\structured\\sqlalchemy\\interface.py:300: SAWarning: UserDefinedType GeographyJSON(from_text='ST_GeomFromEWKT', name='geometry') will not produce a cache key because the ``cache_ok`` attribute is not set to True.  This can have significant performance implications including some performance degradations in comparison to prior SQLAlchemy versions.  Set this attribute to True if this type object's state is safe to use in a cache key, or False to disable this warning. (Background on this warning at: https://sqlalche.me/e/20/cprf)\n",
      "  count = self.__build__().count()\n"
     ]
    },
    {
     "ename": "OperationalError",
     "evalue": "(pymssql._pymssql.OperationalError) (6506, b\"Could not find method 'stasbinary' for type 'Microsoft.SqlServer.Types.SqlGeography' in assembly 'Microsoft.SqlServer.Types'DB-Lib error message 20018, severity 16:\\nGeneral SQL Server error: Check messages from the SQL Server\\n\")\n[SQL: SELECT esquire.geoframes.esq_id,\n       esquire.geoframes.id,\n       (esquire.geoframes.geography).stasbinary() as geography\nFROM   esquire.geoframes\nORDER BY esquire.geoframes.esq_id offset 25738 rows fetch first 10 rows only]\n(Background on this error at: https://sqlalche.me/e/20/e3q8)",
     "output_type": "error",
     "traceback": [
      "\u001b[1;31m---------------------------------------------------------------------------\u001b[0m",
      "\u001b[1;31mMSSQLDatabaseException\u001b[0m                    Traceback (most recent call last)",
      "File \u001b[1;32msrc\\pymssql\\_pymssql.pyx:459\u001b[0m, in \u001b[0;36mpymssql._pymssql.Cursor.execute\u001b[1;34m()\u001b[0m\n",
      "File \u001b[1;32msrc\\pymssql\\_mssql.pyx:1087\u001b[0m, in \u001b[0;36mpymssql._mssql.MSSQLConnection.execute_query\u001b[1;34m()\u001b[0m\n",
      "File \u001b[1;32msrc\\pymssql\\_mssql.pyx:1118\u001b[0m, in \u001b[0;36mpymssql._mssql.MSSQLConnection.execute_query\u001b[1;34m()\u001b[0m\n",
      "File \u001b[1;32msrc\\pymssql\\_mssql.pyx:1251\u001b[0m, in \u001b[0;36mpymssql._mssql.MSSQLConnection.format_and_run_query\u001b[1;34m()\u001b[0m\n",
      "File \u001b[1;32msrc\\pymssql\\_mssql.pyx:1789\u001b[0m, in \u001b[0;36mpymssql._mssql.check_cancel_and_raise\u001b[1;34m()\u001b[0m\n",
      "File \u001b[1;32msrc\\pymssql\\_mssql.pyx:1835\u001b[0m, in \u001b[0;36mpymssql._mssql.raise_MSSQLDatabaseException\u001b[1;34m()\u001b[0m\n",
      "\u001b[1;31mMSSQLDatabaseException\u001b[0m: (6506, b\"Could not find method 'stasbinary' for type 'Microsoft.SqlServer.Types.SqlGeography' in assembly 'Microsoft.SqlServer.Types'DB-Lib error message 20018, severity 16:\\nGeneral SQL Server error: Check messages from the SQL Server\\n\")",
      "\nDuring handling of the above exception, another exception occurred:\n",
      "\u001b[1;31mOperationalError\u001b[0m                          Traceback (most recent call last)",
      "File \u001b[1;32md:\\GitHub\\Esquire-Media\\azfunc-pyapi-v2\\.venv\\lib\\site-packages\\sqlalchemy\\engine\\base.py:1963\u001b[0m, in \u001b[0;36mConnection._exec_single_context\u001b[1;34m(self, dialect, context, statement, parameters)\u001b[0m\n\u001b[0;32m   1962\u001b[0m     \u001b[39mif\u001b[39;00m \u001b[39mnot\u001b[39;00m evt_handled:\n\u001b[1;32m-> 1963\u001b[0m         \u001b[39mself\u001b[39;49m\u001b[39m.\u001b[39;49mdialect\u001b[39m.\u001b[39;49mdo_execute(\n\u001b[0;32m   1964\u001b[0m             cursor, str_statement, effective_parameters, context\n\u001b[0;32m   1965\u001b[0m         )\n\u001b[0;32m   1967\u001b[0m \u001b[39mif\u001b[39;00m \u001b[39mself\u001b[39m\u001b[39m.\u001b[39m_has_events \u001b[39mor\u001b[39;00m \u001b[39mself\u001b[39m\u001b[39m.\u001b[39mengine\u001b[39m.\u001b[39m_has_events:\n",
      "File \u001b[1;32md:\\GitHub\\Esquire-Media\\azfunc-pyapi-v2\\.venv\\lib\\site-packages\\sqlalchemy\\engine\\default.py:920\u001b[0m, in \u001b[0;36mDefaultDialect.do_execute\u001b[1;34m(self, cursor, statement, parameters, context)\u001b[0m\n\u001b[0;32m    919\u001b[0m \u001b[39mdef\u001b[39;00m \u001b[39mdo_execute\u001b[39m(\u001b[39mself\u001b[39m, cursor, statement, parameters, context\u001b[39m=\u001b[39m\u001b[39mNone\u001b[39;00m):\n\u001b[1;32m--> 920\u001b[0m     cursor\u001b[39m.\u001b[39;49mexecute(statement, parameters)\n",
      "File \u001b[1;32msrc\\pymssql\\_pymssql.pyx:479\u001b[0m, in \u001b[0;36mpymssql._pymssql.Cursor.execute\u001b[1;34m()\u001b[0m\n",
      "\u001b[1;31mOperationalError\u001b[0m: (6506, b\"Could not find method 'stasbinary' for type 'Microsoft.SqlServer.Types.SqlGeography' in assembly 'Microsoft.SqlServer.Types'DB-Lib error message 20018, severity 16:\\nGeneral SQL Server error: Check messages from the SQL Server\\n\")",
      "\nThe above exception was the direct cause of the following exception:\n",
      "\u001b[1;31mOperationalError\u001b[0m                          Traceback (most recent call last)",
      "Cell \u001b[1;32mIn[3], line 8\u001b[0m\n\u001b[0;32m      6\u001b[0m display(qf[:\u001b[39m10\u001b[39m])\n\u001b[0;32m      7\u001b[0m display(qf[\u001b[39m25\u001b[39m:\u001b[39m35\u001b[39m]())\n\u001b[1;32m----> 8\u001b[0m display(qf[\u001b[39m-\u001b[39;49m\u001b[39m15\u001b[39;49m:\u001b[39m-\u001b[39;49m\u001b[39m5\u001b[39;49m]\u001b[39m.\u001b[39;49mto_pandas())\n",
      "File \u001b[1;32md:\\GitHub\\Esquire-Media\\azfunc-pyapi-v2\\libs\\data\\structured\\sqlalchemy\\interface.py:362\u001b[0m, in \u001b[0;36mQueryFrame.to_pandas\u001b[1;34m(self)\u001b[0m\n\u001b[0;32m    360\u001b[0m \u001b[39mexcept\u001b[39;00m:\n\u001b[0;32m    361\u001b[0m     \u001b[39mraise\u001b[39;00m \u001b[39mException\u001b[39;00m(\u001b[39m\"\u001b[39m\u001b[39mPandas is not installed.\u001b[39m\u001b[39m\"\u001b[39m)\n\u001b[1;32m--> 362\u001b[0m \u001b[39mreturn\u001b[39;00m pd\u001b[39m.\u001b[39;49mread_sql(\u001b[39mstr\u001b[39;49m(\u001b[39mself\u001b[39;49m), \u001b[39mself\u001b[39;49m\u001b[39m.\u001b[39;49m__session()\u001b[39m.\u001b[39;49mconnection())\n",
      "File \u001b[1;32md:\\GitHub\\Esquire-Media\\azfunc-pyapi-v2\\.venv\\lib\\site-packages\\pandas\\io\\sql.py:661\u001b[0m, in \u001b[0;36mread_sql\u001b[1;34m(sql, con, index_col, coerce_float, params, parse_dates, columns, chunksize, dtype_backend, dtype)\u001b[0m\n\u001b[0;32m    651\u001b[0m     \u001b[39mreturn\u001b[39;00m pandas_sql\u001b[39m.\u001b[39mread_table(\n\u001b[0;32m    652\u001b[0m         sql,\n\u001b[0;32m    653\u001b[0m         index_col\u001b[39m=\u001b[39mindex_col,\n\u001b[1;32m   (...)\u001b[0m\n\u001b[0;32m    658\u001b[0m         dtype_backend\u001b[39m=\u001b[39mdtype_backend,\n\u001b[0;32m    659\u001b[0m     )\n\u001b[0;32m    660\u001b[0m \u001b[39melse\u001b[39;00m:\n\u001b[1;32m--> 661\u001b[0m     \u001b[39mreturn\u001b[39;00m pandas_sql\u001b[39m.\u001b[39;49mread_query(\n\u001b[0;32m    662\u001b[0m         sql,\n\u001b[0;32m    663\u001b[0m         index_col\u001b[39m=\u001b[39;49mindex_col,\n\u001b[0;32m    664\u001b[0m         params\u001b[39m=\u001b[39;49mparams,\n\u001b[0;32m    665\u001b[0m         coerce_float\u001b[39m=\u001b[39;49mcoerce_float,\n\u001b[0;32m    666\u001b[0m         parse_dates\u001b[39m=\u001b[39;49mparse_dates,\n\u001b[0;32m    667\u001b[0m         chunksize\u001b[39m=\u001b[39;49mchunksize,\n\u001b[0;32m    668\u001b[0m         dtype_backend\u001b[39m=\u001b[39;49mdtype_backend,\n\u001b[0;32m    669\u001b[0m         dtype\u001b[39m=\u001b[39;49mdtype,\n\u001b[0;32m    670\u001b[0m     )\n",
      "File \u001b[1;32md:\\GitHub\\Esquire-Media\\azfunc-pyapi-v2\\.venv\\lib\\site-packages\\pandas\\io\\sql.py:1736\u001b[0m, in \u001b[0;36mSQLDatabase.read_query\u001b[1;34m(self, sql, index_col, coerce_float, parse_dates, params, chunksize, dtype, dtype_backend)\u001b[0m\n\u001b[0;32m   1679\u001b[0m \u001b[39mdef\u001b[39;00m \u001b[39mread_query\u001b[39m(\n\u001b[0;32m   1680\u001b[0m     \u001b[39mself\u001b[39m,\n\u001b[0;32m   1681\u001b[0m     sql: \u001b[39mstr\u001b[39m,\n\u001b[1;32m   (...)\u001b[0m\n\u001b[0;32m   1688\u001b[0m     dtype_backend: DtypeBackend \u001b[39m|\u001b[39m Literal[\u001b[39m\"\u001b[39m\u001b[39mnumpy\u001b[39m\u001b[39m\"\u001b[39m] \u001b[39m=\u001b[39m \u001b[39m\"\u001b[39m\u001b[39mnumpy\u001b[39m\u001b[39m\"\u001b[39m,\n\u001b[0;32m   1689\u001b[0m ) \u001b[39m-\u001b[39m\u001b[39m>\u001b[39m DataFrame \u001b[39m|\u001b[39m Iterator[DataFrame]:\n\u001b[0;32m   1690\u001b[0m \u001b[39m    \u001b[39m\u001b[39m\"\"\"\u001b[39;00m\n\u001b[0;32m   1691\u001b[0m \u001b[39m    Read SQL query into a DataFrame.\u001b[39;00m\n\u001b[0;32m   1692\u001b[0m \n\u001b[1;32m   (...)\u001b[0m\n\u001b[0;32m   1734\u001b[0m \n\u001b[0;32m   1735\u001b[0m \u001b[39m    \"\"\"\u001b[39;00m\n\u001b[1;32m-> 1736\u001b[0m     result \u001b[39m=\u001b[39m \u001b[39mself\u001b[39;49m\u001b[39m.\u001b[39;49mexecute(sql, params)\n\u001b[0;32m   1737\u001b[0m     columns \u001b[39m=\u001b[39m result\u001b[39m.\u001b[39mkeys()\n\u001b[0;32m   1739\u001b[0m     \u001b[39mif\u001b[39;00m chunksize \u001b[39mis\u001b[39;00m \u001b[39mnot\u001b[39;00m \u001b[39mNone\u001b[39;00m:\n",
      "File \u001b[1;32md:\\GitHub\\Esquire-Media\\azfunc-pyapi-v2\\.venv\\lib\\site-packages\\pandas\\io\\sql.py:1560\u001b[0m, in \u001b[0;36mSQLDatabase.execute\u001b[1;34m(self, sql, params)\u001b[0m\n\u001b[0;32m   1558\u001b[0m args \u001b[39m=\u001b[39m [] \u001b[39mif\u001b[39;00m params \u001b[39mis\u001b[39;00m \u001b[39mNone\u001b[39;00m \u001b[39melse\u001b[39;00m [params]\n\u001b[0;32m   1559\u001b[0m \u001b[39mif\u001b[39;00m \u001b[39misinstance\u001b[39m(sql, \u001b[39mstr\u001b[39m):\n\u001b[1;32m-> 1560\u001b[0m     \u001b[39mreturn\u001b[39;00m \u001b[39mself\u001b[39;49m\u001b[39m.\u001b[39;49mcon\u001b[39m.\u001b[39;49mexec_driver_sql(sql, \u001b[39m*\u001b[39;49margs)\n\u001b[0;32m   1561\u001b[0m \u001b[39mreturn\u001b[39;00m \u001b[39mself\u001b[39m\u001b[39m.\u001b[39mcon\u001b[39m.\u001b[39mexecute(sql, \u001b[39m*\u001b[39margs)\n",
      "File \u001b[1;32md:\\GitHub\\Esquire-Media\\azfunc-pyapi-v2\\.venv\\lib\\site-packages\\sqlalchemy\\engine\\base.py:1771\u001b[0m, in \u001b[0;36mConnection.exec_driver_sql\u001b[1;34m(self, statement, parameters, execution_options)\u001b[0m\n\u001b[0;32m   1766\u001b[0m execution_options \u001b[39m=\u001b[39m \u001b[39mself\u001b[39m\u001b[39m.\u001b[39m_execution_options\u001b[39m.\u001b[39mmerge_with(\n\u001b[0;32m   1767\u001b[0m     execution_options\n\u001b[0;32m   1768\u001b[0m )\n\u001b[0;32m   1770\u001b[0m dialect \u001b[39m=\u001b[39m \u001b[39mself\u001b[39m\u001b[39m.\u001b[39mdialect\n\u001b[1;32m-> 1771\u001b[0m ret \u001b[39m=\u001b[39m \u001b[39mself\u001b[39;49m\u001b[39m.\u001b[39;49m_execute_context(\n\u001b[0;32m   1772\u001b[0m     dialect,\n\u001b[0;32m   1773\u001b[0m     dialect\u001b[39m.\u001b[39;49mexecution_ctx_cls\u001b[39m.\u001b[39;49m_init_statement,\n\u001b[0;32m   1774\u001b[0m     statement,\n\u001b[0;32m   1775\u001b[0m     \u001b[39mNone\u001b[39;49;00m,\n\u001b[0;32m   1776\u001b[0m     execution_options,\n\u001b[0;32m   1777\u001b[0m     statement,\n\u001b[0;32m   1778\u001b[0m     distilled_parameters,\n\u001b[0;32m   1779\u001b[0m )\n\u001b[0;32m   1781\u001b[0m \u001b[39mreturn\u001b[39;00m ret\n",
      "File \u001b[1;32md:\\GitHub\\Esquire-Media\\azfunc-pyapi-v2\\.venv\\lib\\site-packages\\sqlalchemy\\engine\\base.py:1841\u001b[0m, in \u001b[0;36mConnection._execute_context\u001b[1;34m(self, dialect, constructor, statement, parameters, execution_options, *args, **kw)\u001b[0m\n\u001b[0;32m   1836\u001b[0m     \u001b[39mreturn\u001b[39;00m \u001b[39mself\u001b[39m\u001b[39m.\u001b[39m_exec_insertmany_context(\n\u001b[0;32m   1837\u001b[0m         dialect,\n\u001b[0;32m   1838\u001b[0m         context,\n\u001b[0;32m   1839\u001b[0m     )\n\u001b[0;32m   1840\u001b[0m \u001b[39melse\u001b[39;00m:\n\u001b[1;32m-> 1841\u001b[0m     \u001b[39mreturn\u001b[39;00m \u001b[39mself\u001b[39;49m\u001b[39m.\u001b[39;49m_exec_single_context(\n\u001b[0;32m   1842\u001b[0m         dialect, context, statement, parameters\n\u001b[0;32m   1843\u001b[0m     )\n",
      "File \u001b[1;32md:\\GitHub\\Esquire-Media\\azfunc-pyapi-v2\\.venv\\lib\\site-packages\\sqlalchemy\\engine\\base.py:1982\u001b[0m, in \u001b[0;36mConnection._exec_single_context\u001b[1;34m(self, dialect, context, statement, parameters)\u001b[0m\n\u001b[0;32m   1979\u001b[0m     result \u001b[39m=\u001b[39m context\u001b[39m.\u001b[39m_setup_result_proxy()\n\u001b[0;32m   1981\u001b[0m \u001b[39mexcept\u001b[39;00m \u001b[39mBaseException\u001b[39;00m \u001b[39mas\u001b[39;00m e:\n\u001b[1;32m-> 1982\u001b[0m     \u001b[39mself\u001b[39;49m\u001b[39m.\u001b[39;49m_handle_dbapi_exception(\n\u001b[0;32m   1983\u001b[0m         e, str_statement, effective_parameters, cursor, context\n\u001b[0;32m   1984\u001b[0m     )\n\u001b[0;32m   1986\u001b[0m \u001b[39mreturn\u001b[39;00m result\n",
      "File \u001b[1;32md:\\GitHub\\Esquire-Media\\azfunc-pyapi-v2\\.venv\\lib\\site-packages\\sqlalchemy\\engine\\base.py:2339\u001b[0m, in \u001b[0;36mConnection._handle_dbapi_exception\u001b[1;34m(self, e, statement, parameters, cursor, context, is_sub_exec)\u001b[0m\n\u001b[0;32m   2337\u001b[0m \u001b[39melif\u001b[39;00m should_wrap:\n\u001b[0;32m   2338\u001b[0m     \u001b[39massert\u001b[39;00m sqlalchemy_exception \u001b[39mis\u001b[39;00m \u001b[39mnot\u001b[39;00m \u001b[39mNone\u001b[39;00m\n\u001b[1;32m-> 2339\u001b[0m     \u001b[39mraise\u001b[39;00m sqlalchemy_exception\u001b[39m.\u001b[39mwith_traceback(exc_info[\u001b[39m2\u001b[39m]) \u001b[39mfrom\u001b[39;00m \u001b[39me\u001b[39;00m\n\u001b[0;32m   2340\u001b[0m \u001b[39melse\u001b[39;00m:\n\u001b[0;32m   2341\u001b[0m     \u001b[39massert\u001b[39;00m exc_info[\u001b[39m1\u001b[39m] \u001b[39mis\u001b[39;00m \u001b[39mnot\u001b[39;00m \u001b[39mNone\u001b[39;00m\n",
      "File \u001b[1;32md:\\GitHub\\Esquire-Media\\azfunc-pyapi-v2\\.venv\\lib\\site-packages\\sqlalchemy\\engine\\base.py:1963\u001b[0m, in \u001b[0;36mConnection._exec_single_context\u001b[1;34m(self, dialect, context, statement, parameters)\u001b[0m\n\u001b[0;32m   1961\u001b[0m                 \u001b[39mbreak\u001b[39;00m\n\u001b[0;32m   1962\u001b[0m     \u001b[39mif\u001b[39;00m \u001b[39mnot\u001b[39;00m evt_handled:\n\u001b[1;32m-> 1963\u001b[0m         \u001b[39mself\u001b[39;49m\u001b[39m.\u001b[39;49mdialect\u001b[39m.\u001b[39;49mdo_execute(\n\u001b[0;32m   1964\u001b[0m             cursor, str_statement, effective_parameters, context\n\u001b[0;32m   1965\u001b[0m         )\n\u001b[0;32m   1967\u001b[0m \u001b[39mif\u001b[39;00m \u001b[39mself\u001b[39m\u001b[39m.\u001b[39m_has_events \u001b[39mor\u001b[39;00m \u001b[39mself\u001b[39m\u001b[39m.\u001b[39mengine\u001b[39m.\u001b[39m_has_events:\n\u001b[0;32m   1968\u001b[0m     \u001b[39mself\u001b[39m\u001b[39m.\u001b[39mdispatch\u001b[39m.\u001b[39mafter_cursor_execute(\n\u001b[0;32m   1969\u001b[0m         \u001b[39mself\u001b[39m,\n\u001b[0;32m   1970\u001b[0m         cursor,\n\u001b[1;32m   (...)\u001b[0m\n\u001b[0;32m   1974\u001b[0m         context\u001b[39m.\u001b[39mexecutemany,\n\u001b[0;32m   1975\u001b[0m     )\n",
      "File \u001b[1;32md:\\GitHub\\Esquire-Media\\azfunc-pyapi-v2\\.venv\\lib\\site-packages\\sqlalchemy\\engine\\default.py:920\u001b[0m, in \u001b[0;36mDefaultDialect.do_execute\u001b[1;34m(self, cursor, statement, parameters, context)\u001b[0m\n\u001b[0;32m    919\u001b[0m \u001b[39mdef\u001b[39;00m \u001b[39mdo_execute\u001b[39m(\u001b[39mself\u001b[39m, cursor, statement, parameters, context\u001b[39m=\u001b[39m\u001b[39mNone\u001b[39;00m):\n\u001b[1;32m--> 920\u001b[0m     cursor\u001b[39m.\u001b[39;49mexecute(statement, parameters)\n",
      "File \u001b[1;32msrc\\pymssql\\_pymssql.pyx:479\u001b[0m, in \u001b[0;36mpymssql._pymssql.Cursor.execute\u001b[1;34m()\u001b[0m\n",
      "\u001b[1;31mOperationalError\u001b[0m: (pymssql._pymssql.OperationalError) (6506, b\"Could not find method 'stasbinary' for type 'Microsoft.SqlServer.Types.SqlGeography' in assembly 'Microsoft.SqlServer.Types'DB-Lib error message 20018, severity 16:\\nGeneral SQL Server error: Check messages from the SQL Server\\n\")\n[SQL: SELECT esquire.geoframes.esq_id,\n       esquire.geoframes.id,\n       (esquire.geoframes.geography).stasbinary() as geography\nFROM   esquire.geoframes\nORDER BY esquire.geoframes.esq_id offset 25738 rows fetch first 10 rows only]\n(Background on this error at: https://sqlalche.me/e/20/e3q8)"
     ]
    }
   ],
   "source": [
    "provider = from_bind(\"some_handle_name\")\n",
    "\n",
    "qf = provider[\"esquire.geoframes\"]\n",
    "qf = qf[[qf[\"esq_id\"], qf[\"id\"], qf[\"geography\"]]]\n",
    "\n",
    "display(qf[:10])\n",
    "display(qf[25:35]())"
   ]
  }
 ],
 "metadata": {
  "kernelspec": {
   "display_name": ".venv",
   "language": "python",
   "name": "python3"
  },
  "language_info": {
   "codemirror_mode": {
    "name": "ipython",
    "version": 3
   },
   "file_extension": ".py",
   "mimetype": "text/x-python",
   "name": "python",
   "nbconvert_exporter": "python",
   "pygments_lexer": "ipython3",
   "version": "3.10.4"
  },
  "orig_nbformat": 4
 },
 "nbformat": 4,
 "nbformat_minor": 2
}
